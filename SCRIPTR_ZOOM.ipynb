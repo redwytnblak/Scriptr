{
 "cells": [
  {
   "cell_type": "code",
   "execution_count": 2,
   "id": "93e3d213",
   "metadata": {},
   "outputs": [
    {
     "name": "stdout",
     "output_type": "stream",
     "text": [
      "What is the name of your ref file?:REFFILE - Demo\n"
     ]
    }
   ],
   "source": [
    "from pandas import *\n",
    "import csv\n",
    "from shutil import *\n",
    "import fileinput\n",
    "import os\n",
    "path = os.getcwd()\n",
    "Multi = (path+\"\\\\SCRIPT_TEMPLATES\\\\MULTIPLE_HITS_GROOVY_SCRIPT.txt\")\n",
    "Single = (path+\"\\\\SCRIPT_TEMPLATES\\\\SINGLE_HIT_GROOVY_SCRIPT.txt\")\n",
    "EXCEL = input(\"What is the name of your ref file?:\")\n",
    "REF = pandas.read_csv(path+\"\\\\REFFILES\\\\\"+EXCEL+\".csv\")\n",
    "REF = REF[['Temp_Type','Regex','Input','Output']]"
   ]
  },
  {
   "cell_type": "code",
   "execution_count": 3,
   "id": "4baa1f52",
   "metadata": {},
   "outputs": [],
   "source": [
    "def scriptr_actions (TEMP_TYPE, REGEX, INPUT_VAL, OUTPUT_VAL):\n",
    "    FILE_COPY = copyfile(TEMP_TYPE,(path+\"\\\\SCRIPTS\\\\\"+OUTPUT_VAL+\".txt\"))\n",
    "    FILE_UPDATE = open(FILE_COPY, 'r')\n",
    "    UPDATE = FILE_UPDATE.read()\n",
    "    UPDATE = UPDATE.replace('<REGEX PLACEHOLDER>', REGEX).replace('<INPUT PLACEHOLDER>', INPUT_VAL).replace('<OUTPUT PLACEHOLDER>', OUTPUT_VAL)\n",
    "    FILE_UPDATE.close()\n",
    "    FILE_UPDATE = open((path+\"\\\\SCRIPTS\\\\\"+OUTPUT_VAL+\".txt\"),'w')\n",
    "    FILE_UPDATE.write(UPDATE)\n",
    "    FILE_UPDATE.close()"
   ]
  },
  {
   "cell_type": "code",
   "execution_count": 4,
   "id": "d62ff3b1",
   "metadata": {},
   "outputs": [],
   "source": [
    "error_handling = []\n",
    "def scriptr(TEMP_TYPE,REGEX,INPUT_VAL,OUTPUT_VAL):\n",
    "    #scriptr_actions(input_[0], input_[1], input_[2], input_[3])\n",
    "    if input_[0] == 'Multi':\n",
    "        scriptr_actions(Multi, REGEX, INPUT_VAL, OUTPUT_VAL)\n",
    "    elif input_[0] == 'Single':\n",
    "        scriptr_actions(Single, REGEX, INPUT_VAL, OUTPUT_VAL)\n",
    "    else:\n",
    "        error_handling.append(i)\n",
    "        pass"
   ]
  },
  {
   "cell_type": "code",
   "execution_count": 5,
   "id": "04716f8b",
   "metadata": {},
   "outputs": [],
   "source": [
    "if (len(REF)) > 0:    \n",
    "    for i in range(len(REF)):\n",
    "        input_ = (tuple(REF.iloc[i]))\n",
    "        scriptr(input_[0], input_[1], input_[2], input_[3])\n",
    "else:\n",
    "    print(\"There are no inputs in your ref file. Please check yoru csv.\")"
   ]
  },
  {
   "cell_type": "code",
   "execution_count": 6,
   "id": "32c6d90c",
   "metadata": {},
   "outputs": [],
   "source": [
    "if len (error_handling) > 0:\n",
    "    print('There are errors in the following line(s) of your csv. Please fix and rerun. All other lines have run successfully:')\n",
    "    print(error_handling)\n",
    "    print(REF.loc[error_handling])"
   ]
  },
  {
   "cell_type": "code",
   "execution_count": null,
   "id": "e3055703",
   "metadata": {},
   "outputs": [],
   "source": []
  }
 ],
 "metadata": {
  "kernelspec": {
   "display_name": "Python 3",
   "language": "python",
   "name": "python3"
  },
  "language_info": {
   "codemirror_mode": {
    "name": "ipython",
    "version": 3
   },
   "file_extension": ".py",
   "mimetype": "text/x-python",
   "name": "python",
   "nbconvert_exporter": "python",
   "pygments_lexer": "ipython3",
   "version": "3.8.8"
  }
 },
 "nbformat": 4,
 "nbformat_minor": 5
}
