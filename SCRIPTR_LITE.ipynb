{
 "cells": [
  {
   "cell_type": "code",
   "execution_count": null,
   "id": "03c28dbd",
   "metadata": {},
   "outputs": [],
   "source": [
    "from shutil import *\n",
    "import fileinput\n",
    "import os\n",
    "path = os.getcwd()\n",
    "Multi = (path+\"\\\\SCRIPT_TEMPLATES\\\\MULTIPLE_HITS_GROOVY_SCRIPT.txt\")\n",
    "Single = (path+\"\\\\SCRIPT_TEMPLATES\\\\SINGLE_HIT_GROOVY_SCRIPT.txt\")"
   ]
  },
  {
   "cell_type": "code",
   "execution_count": null,
   "id": "a50c7b23",
   "metadata": {},
   "outputs": [],
   "source": [
    "def scriptr_actions (TEMP_TYPE, REGEX, INPUT_VAL, OUTPUT_VAL):\n",
    "    \n",
    "    FILE_COPY = copyfile(TEMP_TYPE,(path+\"\\\\SCRIPTS\\\\\"+OUTPUT_VAL+\".txt\"))\n",
    "    FILE_UPDATE = open(FILE_COPY, 'r')\n",
    "    UPDATE = FILE_UPDATE.read()\n",
    "    UPDATE = UPDATE.replace('<REGEX PLACEHOLDER>', REGEX).replace('<INPUT PLACEHOLDER>', INPUT_VAL).replace('<OUTPUT PLACEHOLDER>', OUTPUT_VAL)\n",
    "    FILE_UPDATE.close()\n",
    "    FILE_UPDATE = open((path+\"\\\\SCRIPTS\\\\\"+OUTPUT_VAL+\".txt\"),'w')\n",
    "    FILE_UPDATE.write(UPDATE)\n",
    "    FILE_UPDATE.close()"
   ]
  },
  {
   "cell_type": "code",
   "execution_count": null,
   "id": "53fef470",
   "metadata": {},
   "outputs": [],
   "source": [
    "def scriptr():\n",
    "    \n",
    "    REGEX = (input(\"Regex to search: \"))\n",
    "    INPUT_VAL = (input(\"Input for Script: \"))\n",
    "    OUTPUT_VAL = (input(\"Name of Script: \"))\n",
    "    TEMP_TYPE = input(\"What template type do you want to run? Multi or Single? \")\n",
    "    \n",
    "    if TEMP_TYPE == 'Multi':\n",
    "        scriptr_actions(Multi, REGEX, INPUT_VAL, OUTPUT_VAL)\n",
    "    elif TEMP_TYPE == 'Single':\n",
    "        scriptr_actions(Single, REGEX, INPUT_VAL, OUTPUT_VAL)\n",
    "    else:\n",
    "        print(\"Please enter a valid temp type of Multi or Single\")\n",
    "        scriptr()"
   ]
  },
  {
   "cell_type": "code",
   "execution_count": null,
   "id": "f05f0a98",
   "metadata": {},
   "outputs": [],
   "source": [
    "scriptr()"
   ]
  }
 ],
 "metadata": {
  "kernelspec": {
   "display_name": "Python 3",
   "language": "python",
   "name": "python3"
  },
  "language_info": {
   "codemirror_mode": {
    "name": "ipython",
    "version": 3
   },
   "file_extension": ".py",
   "mimetype": "text/x-python",
   "name": "python",
   "nbconvert_exporter": "python",
   "pygments_lexer": "ipython3",
   "version": "3.8.8"
  }
 },
 "nbformat": 4,
 "nbformat_minor": 5
}
